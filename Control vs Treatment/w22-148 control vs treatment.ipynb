{
 "cells": [
  {
   "cell_type": "code",
   "execution_count": 16,
   "id": "bf0cba3b-0794-46fb-94e9-49dea1f7f0ea",
   "metadata": {},
   "outputs": [],
   "source": [
    "import pandas as pd"
   ]
  },
  {
   "cell_type": "code",
   "execution_count": 17,
   "id": "9ac1b410-4f54-4fd4-8e4d-48a81c21be37",
   "metadata": {},
   "outputs": [],
   "source": [
    "data = 'merged-w22-csc148.csv'"
   ]
  },
  {
   "cell_type": "code",
   "execution_count": 18,
   "id": "a16e504b-e065-4224-bebb-68c047b2eed5",
   "metadata": {},
   "outputs": [],
   "source": [
    "weeks = ['w1_opened', 'w2_opened', 'w3_opened', 'w4_opened',\n",
    "         'w5_opened', 'w6_opened', 'w7_opened', 'w8_opened',\n",
    "         'w9_opened', 'w10_opened', 'w11_opened']"
   ]
  },
  {
   "cell_type": "code",
   "execution_count": 19,
   "id": "2d9b0b1d-6df6-423c-a453-2db9c06c1729",
   "metadata": {},
   "outputs": [],
   "source": [
    "d_email = pd.read_csv(data, usecols=weeks).values\n",
    "d_treatment = pd.read_csv(data, usecols=['w1_text_A']).values\n",
    "d_gender = pd.read_csv(data, usecols=['Q769_pre']).values\n",
    "\n",
    "f_gender = 'she/herShe/HerwomanfemaleFemaleWoman'\n",
    "m_gender = 'HeterosexualMalemalehe/himManmanHe/Himcis-gender'"
   ]
  },
  {
   "cell_type": "code",
   "execution_count": 20,
   "id": "c09fc8c7-3dcf-4966-920e-6d5a353cd51c",
   "metadata": {},
   "outputs": [],
   "source": [
    "treatment_obs = []\n",
    "control_obs = []\n",
    "total_obs = []\n",
    "for i in range(len(d_treatment)):\n",
    "    if not pd.isna(d_treatment[i][0]):\n",
    "        treatment_obs.append(i)\n",
    "    else:\n",
    "        control_obs.append(i)\n",
    "    total_obs.append(i)"
   ]
  },
  {
   "cell_type": "code",
   "execution_count": 21,
   "id": "4e278136-ebd3-4357-beab-00007a1f6359",
   "metadata": {},
   "outputs": [],
   "source": [
    "def determine_rate(obs):\n",
    "    rates = []\n",
    "    totals = []\n",
    "    opens = []\n",
    "    m_opens = []\n",
    "    f_opens = []\n",
    "    other_opens = []\n",
    "    for i in range(len(weeks)):\n",
    "        tot = 0\n",
    "        op = 0\n",
    "        m = 0\n",
    "        f = 0\n",
    "        other = 0\n",
    "        for j in obs:\n",
    "            if not pd.isna(d_email[j][i]):\n",
    "                tot += 1\n",
    "                if d_email[j][i] == 'EMAIL_OPENED':\n",
    "                    op += 1\n",
    "                if not pd.isna(d_gender[j][0]):\n",
    "                    if d_gender[j][0] in m_gender:\n",
    "                        m += 1\n",
    "                    elif d_gender[j][0] in f_gender:\n",
    "                        f += 1\n",
    "                    else:\n",
    "                        other += 1\n",
    "                else:\n",
    "                    other += 1\n",
    "        totals.append(tot)\n",
    "        opens.append(op)\n",
    "        m_opens.append(m)\n",
    "        f_opens.append(f)\n",
    "        other_opens.append(other)\n",
    "        if tot != 0:\n",
    "            rates.append(op / tot)\n",
    "        else:\n",
    "            rates.append(0)\n",
    "    return [rates, opens, totals, m_opens, f_opens, other_opens]"
   ]
  },
  {
   "cell_type": "code",
   "execution_count": 22,
   "id": "dca6cf19-911a-4e61-8750-c72b09ca4c5e",
   "metadata": {},
   "outputs": [],
   "source": [
    "results = pd.DataFrame(columns=weeks)\n",
    "\n",
    "results_overall = determine_rate(total_obs)\n",
    "results_treatment = determine_rate(treatment_obs)\n",
    "results_control = determine_rate(control_obs)\n",
    "\n",
    "for i in range(1, 7):\n",
    "    results.loc[i] = results_overall[i - 1]\n",
    "for i in range(7, 13):\n",
    "    results.loc[i] = results_treatment[i - 7]\n",
    "for i in range(13, 19):\n",
    "    results.loc[i] = results_control[i - 13]"
   ]
  },
  {
   "cell_type": "code",
   "execution_count": 23,
   "id": "848f590a-4262-4e1e-b9de-1a70242fbb3f",
   "metadata": {},
   "outputs": [
    {
     "name": "stdout",
     "output_type": "stream",
     "text": [
      "     w1_opened   w2_opened   w3_opened   w4_opened   w5_opened   w6_opened  \\\n",
      "1     0.650630    0.711449    0.628938    0.658477    0.611591    0.565757   \n",
      "2   568.000000  609.000000  539.000000  536.000000  496.000000  456.000000   \n",
      "3   873.000000  856.000000  857.000000  814.000000  811.000000  806.000000   \n",
      "4   405.000000  407.000000  407.000000  408.000000  408.000000  406.000000   \n",
      "5   101.000000  101.000000  101.000000  101.000000   99.000000   99.000000   \n",
      "6   367.000000  348.000000  349.000000  305.000000  304.000000  301.000000   \n",
      "7     0.618834    0.732265    0.615561    0.673077    0.620773    0.572816   \n",
      "8   276.000000  320.000000  269.000000  280.000000  257.000000  236.000000   \n",
      "9   446.000000  437.000000  437.000000  416.000000  414.000000  412.000000   \n",
      "10  210.000000  210.000000  210.000000  210.000000  210.000000  209.000000   \n",
      "11   51.000000   51.000000   51.000000   51.000000   49.000000   49.000000   \n",
      "12  185.000000  176.000000  176.000000  155.000000  155.000000  154.000000   \n",
      "13    0.683841    0.689737    0.642857    0.643216    0.602015    0.558376   \n",
      "14  292.000000  289.000000  270.000000  256.000000  239.000000  220.000000   \n",
      "15  427.000000  419.000000  420.000000  398.000000  397.000000  394.000000   \n",
      "16  195.000000  197.000000  197.000000  198.000000  198.000000  197.000000   \n",
      "17   50.000000   50.000000   50.000000   50.000000   50.000000   50.000000   \n",
      "18  182.000000  172.000000  173.000000  150.000000  149.000000  147.000000   \n",
      "\n",
      "      w7_opened   w8_opened    w9_opened  w10_opened   w11_opened  \n",
      "1      0.127389    0.583333     0.358678         0.0     0.357851  \n",
      "2    160.000000  441.000000   434.000000         0.0   433.000000  \n",
      "3   1256.000000  756.000000  1210.000000      1130.0  1210.000000  \n",
      "4    878.000000  391.000000   863.000000       783.0   863.000000  \n",
      "5     94.000000   94.000000    90.000000        90.0    90.000000  \n",
      "6    284.000000  271.000000   257.000000       257.0   257.000000  \n",
      "7      0.000000    0.589610     0.250674         0.0     0.274933  \n",
      "8      0.000000  227.000000    93.000000         0.0   102.000000  \n",
      "9    398.000000  385.000000   371.000000       371.0   371.000000  \n",
      "10   205.000000  200.000000   194.000000       194.0   194.000000  \n",
      "11    47.000000   47.000000    46.000000        46.0    46.000000  \n",
      "12   146.000000  138.000000   131.000000       131.0   131.000000  \n",
      "13     0.186480    0.576819     0.406436         0.0     0.394517  \n",
      "14   160.000000  214.000000   341.000000         0.0   331.000000  \n",
      "15   858.000000  371.000000   839.000000       759.0   839.000000  \n",
      "16   673.000000  191.000000   669.000000       589.0   669.000000  \n",
      "17    47.000000   47.000000    44.000000        44.0    44.000000  \n",
      "18   138.000000  133.000000   126.000000       126.0   126.000000  \n"
     ]
    }
   ],
   "source": [
    "print(results)\n"
   ]
  },
  {
   "cell_type": "code",
   "execution_count": 26,
   "id": "e1ccfc8c-0f10-4362-972d-70e0311c3a07",
   "metadata": {},
   "outputs": [
    {
     "ename": "KeyError",
     "evalue": "3",
     "output_type": "error",
     "traceback": [
      "\u001b[0;31m---------------------------------------------------------------------------\u001b[0m",
      "\u001b[0;31mKeyError\u001b[0m                                  Traceback (most recent call last)",
      "File \u001b[0;32m~/opt/anaconda3/lib/python3.9/site-packages/pandas/core/indexes/base.py:3621\u001b[0m, in \u001b[0;36mIndex.get_loc\u001b[0;34m(self, key, method, tolerance)\u001b[0m\n\u001b[1;32m   3620\u001b[0m \u001b[38;5;28;01mtry\u001b[39;00m:\n\u001b[0;32m-> 3621\u001b[0m     \u001b[38;5;28;01mreturn\u001b[39;00m \u001b[38;5;28;43mself\u001b[39;49m\u001b[38;5;241;43m.\u001b[39;49m\u001b[43m_engine\u001b[49m\u001b[38;5;241;43m.\u001b[39;49m\u001b[43mget_loc\u001b[49m\u001b[43m(\u001b[49m\u001b[43mcasted_key\u001b[49m\u001b[43m)\u001b[49m\n\u001b[1;32m   3622\u001b[0m \u001b[38;5;28;01mexcept\u001b[39;00m \u001b[38;5;167;01mKeyError\u001b[39;00m \u001b[38;5;28;01mas\u001b[39;00m err:\n",
      "File \u001b[0;32m~/opt/anaconda3/lib/python3.9/site-packages/pandas/_libs/index.pyx:136\u001b[0m, in \u001b[0;36mpandas._libs.index.IndexEngine.get_loc\u001b[0;34m()\u001b[0m\n",
      "File \u001b[0;32m~/opt/anaconda3/lib/python3.9/site-packages/pandas/_libs/index.pyx:163\u001b[0m, in \u001b[0;36mpandas._libs.index.IndexEngine.get_loc\u001b[0;34m()\u001b[0m\n",
      "File \u001b[0;32mpandas/_libs/hashtable_class_helper.pxi:5198\u001b[0m, in \u001b[0;36mpandas._libs.hashtable.PyObjectHashTable.get_item\u001b[0;34m()\u001b[0m\n",
      "File \u001b[0;32mpandas/_libs/hashtable_class_helper.pxi:5206\u001b[0m, in \u001b[0;36mpandas._libs.hashtable.PyObjectHashTable.get_item\u001b[0;34m()\u001b[0m\n",
      "\u001b[0;31mKeyError\u001b[0m: 3",
      "\nThe above exception was the direct cause of the following exception:\n",
      "\u001b[0;31mKeyError\u001b[0m                                  Traceback (most recent call last)",
      "Input \u001b[0;32mIn [26]\u001b[0m, in \u001b[0;36m<cell line: 12>\u001b[0;34m()\u001b[0m\n\u001b[1;32m      9\u001b[0m treatment_rates \u001b[38;5;241m=\u001b[39m results\u001b[38;5;241m.\u001b[39mloc[\u001b[38;5;241m7\u001b[39m:\u001b[38;5;241m12\u001b[39m, weeks]\u001b[38;5;241m.\u001b[39mvalues\n\u001b[1;32m     10\u001b[0m control_rates \u001b[38;5;241m=\u001b[39m results\u001b[38;5;241m.\u001b[39mloc[\u001b[38;5;241m13\u001b[39m:\u001b[38;5;241m18\u001b[39m, weeks]\u001b[38;5;241m.\u001b[39mvalues\n\u001b[0;32m---> 12\u001b[0m m_opens \u001b[38;5;241m=\u001b[39m \u001b[43mresults\u001b[49m\u001b[38;5;241;43m.\u001b[39;49m\u001b[43mloc\u001b[49m\u001b[43m[\u001b[49m\u001b[38;5;241;43m1\u001b[39;49m\u001b[43m:\u001b[49m\u001b[38;5;241;43m6\u001b[39;49m\u001b[43m,\u001b[49m\u001b[43m \u001b[49m\u001b[38;5;241;43m3\u001b[39;49m\u001b[43m]\u001b[49m\u001b[38;5;241m.\u001b[39mvalues\n\u001b[1;32m     13\u001b[0m f_opens \u001b[38;5;241m=\u001b[39m results\u001b[38;5;241m.\u001b[39mloc[\u001b[38;5;241m1\u001b[39m:\u001b[38;5;241m6\u001b[39m, \u001b[38;5;241m4\u001b[39m]\u001b[38;5;241m.\u001b[39mvalues\n\u001b[1;32m     14\u001b[0m other_opens \u001b[38;5;241m=\u001b[39m results\u001b[38;5;241m.\u001b[39mloc[\u001b[38;5;241m1\u001b[39m:\u001b[38;5;241m6\u001b[39m, \u001b[38;5;241m5\u001b[39m]\u001b[38;5;241m.\u001b[39mvalues\n",
      "File \u001b[0;32m~/opt/anaconda3/lib/python3.9/site-packages/pandas/core/indexing.py:961\u001b[0m, in \u001b[0;36m_LocationIndexer.__getitem__\u001b[0;34m(self, key)\u001b[0m\n\u001b[1;32m    959\u001b[0m     \u001b[38;5;28;01mif\u001b[39;00m \u001b[38;5;28mself\u001b[39m\u001b[38;5;241m.\u001b[39m_is_scalar_access(key):\n\u001b[1;32m    960\u001b[0m         \u001b[38;5;28;01mreturn\u001b[39;00m \u001b[38;5;28mself\u001b[39m\u001b[38;5;241m.\u001b[39mobj\u001b[38;5;241m.\u001b[39m_get_value(\u001b[38;5;241m*\u001b[39mkey, takeable\u001b[38;5;241m=\u001b[39m\u001b[38;5;28mself\u001b[39m\u001b[38;5;241m.\u001b[39m_takeable)\n\u001b[0;32m--> 961\u001b[0m     \u001b[38;5;28;01mreturn\u001b[39;00m \u001b[38;5;28;43mself\u001b[39;49m\u001b[38;5;241;43m.\u001b[39;49m\u001b[43m_getitem_tuple\u001b[49m\u001b[43m(\u001b[49m\u001b[43mkey\u001b[49m\u001b[43m)\u001b[49m\n\u001b[1;32m    962\u001b[0m \u001b[38;5;28;01melse\u001b[39;00m:\n\u001b[1;32m    963\u001b[0m     \u001b[38;5;66;03m# we by definition only have the 0th axis\u001b[39;00m\n\u001b[1;32m    964\u001b[0m     axis \u001b[38;5;241m=\u001b[39m \u001b[38;5;28mself\u001b[39m\u001b[38;5;241m.\u001b[39maxis \u001b[38;5;129;01mor\u001b[39;00m \u001b[38;5;241m0\u001b[39m\n",
      "File \u001b[0;32m~/opt/anaconda3/lib/python3.9/site-packages/pandas/core/indexing.py:1140\u001b[0m, in \u001b[0;36m_LocIndexer._getitem_tuple\u001b[0;34m(self, tup)\u001b[0m\n\u001b[1;32m   1138\u001b[0m \u001b[38;5;28;01mwith\u001b[39;00m suppress(IndexingError):\n\u001b[1;32m   1139\u001b[0m     tup \u001b[38;5;241m=\u001b[39m \u001b[38;5;28mself\u001b[39m\u001b[38;5;241m.\u001b[39m_expand_ellipsis(tup)\n\u001b[0;32m-> 1140\u001b[0m     \u001b[38;5;28;01mreturn\u001b[39;00m \u001b[38;5;28;43mself\u001b[39;49m\u001b[38;5;241;43m.\u001b[39;49m\u001b[43m_getitem_lowerdim\u001b[49m\u001b[43m(\u001b[49m\u001b[43mtup\u001b[49m\u001b[43m)\u001b[49m\n\u001b[1;32m   1142\u001b[0m \u001b[38;5;66;03m# no multi-index, so validate all of the indexers\u001b[39;00m\n\u001b[1;32m   1143\u001b[0m tup \u001b[38;5;241m=\u001b[39m \u001b[38;5;28mself\u001b[39m\u001b[38;5;241m.\u001b[39m_validate_tuple_indexer(tup)\n",
      "File \u001b[0;32m~/opt/anaconda3/lib/python3.9/site-packages/pandas/core/indexing.py:867\u001b[0m, in \u001b[0;36m_LocationIndexer._getitem_lowerdim\u001b[0;34m(self, tup)\u001b[0m\n\u001b[1;32m    863\u001b[0m \u001b[38;5;28;01mfor\u001b[39;00m i, key \u001b[38;5;129;01min\u001b[39;00m \u001b[38;5;28menumerate\u001b[39m(tup):\n\u001b[1;32m    864\u001b[0m     \u001b[38;5;28;01mif\u001b[39;00m is_label_like(key):\n\u001b[1;32m    865\u001b[0m         \u001b[38;5;66;03m# We don't need to check for tuples here because those are\u001b[39;00m\n\u001b[1;32m    866\u001b[0m         \u001b[38;5;66;03m#  caught by the _is_nested_tuple_indexer check above.\u001b[39;00m\n\u001b[0;32m--> 867\u001b[0m         section \u001b[38;5;241m=\u001b[39m \u001b[38;5;28;43mself\u001b[39;49m\u001b[38;5;241;43m.\u001b[39;49m\u001b[43m_getitem_axis\u001b[49m\u001b[43m(\u001b[49m\u001b[43mkey\u001b[49m\u001b[43m,\u001b[49m\u001b[43m \u001b[49m\u001b[43maxis\u001b[49m\u001b[38;5;241;43m=\u001b[39;49m\u001b[43mi\u001b[49m\u001b[43m)\u001b[49m\n\u001b[1;32m    869\u001b[0m         \u001b[38;5;66;03m# We should never have a scalar section here, because\u001b[39;00m\n\u001b[1;32m    870\u001b[0m         \u001b[38;5;66;03m#  _getitem_lowerdim is only called after a check for\u001b[39;00m\n\u001b[1;32m    871\u001b[0m         \u001b[38;5;66;03m#  is_scalar_access, which that would be.\u001b[39;00m\n\u001b[1;32m    872\u001b[0m         \u001b[38;5;28;01mif\u001b[39;00m section\u001b[38;5;241m.\u001b[39mndim \u001b[38;5;241m==\u001b[39m \u001b[38;5;28mself\u001b[39m\u001b[38;5;241m.\u001b[39mndim:\n\u001b[1;32m    873\u001b[0m             \u001b[38;5;66;03m# we're in the middle of slicing through a MultiIndex\u001b[39;00m\n\u001b[1;32m    874\u001b[0m             \u001b[38;5;66;03m# revise the key wrt to `section` by inserting an _NS\u001b[39;00m\n",
      "File \u001b[0;32m~/opt/anaconda3/lib/python3.9/site-packages/pandas/core/indexing.py:1202\u001b[0m, in \u001b[0;36m_LocIndexer._getitem_axis\u001b[0;34m(self, key, axis)\u001b[0m\n\u001b[1;32m   1200\u001b[0m \u001b[38;5;66;03m# fall thru to straight lookup\u001b[39;00m\n\u001b[1;32m   1201\u001b[0m \u001b[38;5;28mself\u001b[39m\u001b[38;5;241m.\u001b[39m_validate_key(key, axis)\n\u001b[0;32m-> 1202\u001b[0m \u001b[38;5;28;01mreturn\u001b[39;00m \u001b[38;5;28;43mself\u001b[39;49m\u001b[38;5;241;43m.\u001b[39;49m\u001b[43m_get_label\u001b[49m\u001b[43m(\u001b[49m\u001b[43mkey\u001b[49m\u001b[43m,\u001b[49m\u001b[43m \u001b[49m\u001b[43maxis\u001b[49m\u001b[38;5;241;43m=\u001b[39;49m\u001b[43maxis\u001b[49m\u001b[43m)\u001b[49m\n",
      "File \u001b[0;32m~/opt/anaconda3/lib/python3.9/site-packages/pandas/core/indexing.py:1153\u001b[0m, in \u001b[0;36m_LocIndexer._get_label\u001b[0;34m(self, label, axis)\u001b[0m\n\u001b[1;32m   1151\u001b[0m \u001b[38;5;28;01mdef\u001b[39;00m \u001b[38;5;21m_get_label\u001b[39m(\u001b[38;5;28mself\u001b[39m, label, axis: \u001b[38;5;28mint\u001b[39m):\n\u001b[1;32m   1152\u001b[0m     \u001b[38;5;66;03m# GH#5667 this will fail if the label is not present in the axis.\u001b[39;00m\n\u001b[0;32m-> 1153\u001b[0m     \u001b[38;5;28;01mreturn\u001b[39;00m \u001b[38;5;28;43mself\u001b[39;49m\u001b[38;5;241;43m.\u001b[39;49m\u001b[43mobj\u001b[49m\u001b[38;5;241;43m.\u001b[39;49m\u001b[43mxs\u001b[49m\u001b[43m(\u001b[49m\u001b[43mlabel\u001b[49m\u001b[43m,\u001b[49m\u001b[43m \u001b[49m\u001b[43maxis\u001b[49m\u001b[38;5;241;43m=\u001b[39;49m\u001b[43maxis\u001b[49m\u001b[43m)\u001b[49m\n",
      "File \u001b[0;32m~/opt/anaconda3/lib/python3.9/site-packages/pandas/core/generic.py:3849\u001b[0m, in \u001b[0;36mNDFrame.xs\u001b[0;34m(self, key, axis, level, drop_level)\u001b[0m\n\u001b[1;32m   3847\u001b[0m \u001b[38;5;28;01mif\u001b[39;00m axis \u001b[38;5;241m==\u001b[39m \u001b[38;5;241m1\u001b[39m:\n\u001b[1;32m   3848\u001b[0m     \u001b[38;5;28;01mif\u001b[39;00m drop_level:\n\u001b[0;32m-> 3849\u001b[0m         \u001b[38;5;28;01mreturn\u001b[39;00m \u001b[38;5;28;43mself\u001b[39;49m\u001b[43m[\u001b[49m\u001b[43mkey\u001b[49m\u001b[43m]\u001b[49m\n\u001b[1;32m   3850\u001b[0m     index \u001b[38;5;241m=\u001b[39m \u001b[38;5;28mself\u001b[39m\u001b[38;5;241m.\u001b[39mcolumns\n\u001b[1;32m   3851\u001b[0m \u001b[38;5;28;01melse\u001b[39;00m:\n",
      "File \u001b[0;32m~/opt/anaconda3/lib/python3.9/site-packages/pandas/core/frame.py:3505\u001b[0m, in \u001b[0;36mDataFrame.__getitem__\u001b[0;34m(self, key)\u001b[0m\n\u001b[1;32m   3503\u001b[0m \u001b[38;5;28;01mif\u001b[39;00m \u001b[38;5;28mself\u001b[39m\u001b[38;5;241m.\u001b[39mcolumns\u001b[38;5;241m.\u001b[39mnlevels \u001b[38;5;241m>\u001b[39m \u001b[38;5;241m1\u001b[39m:\n\u001b[1;32m   3504\u001b[0m     \u001b[38;5;28;01mreturn\u001b[39;00m \u001b[38;5;28mself\u001b[39m\u001b[38;5;241m.\u001b[39m_getitem_multilevel(key)\n\u001b[0;32m-> 3505\u001b[0m indexer \u001b[38;5;241m=\u001b[39m \u001b[38;5;28;43mself\u001b[39;49m\u001b[38;5;241;43m.\u001b[39;49m\u001b[43mcolumns\u001b[49m\u001b[38;5;241;43m.\u001b[39;49m\u001b[43mget_loc\u001b[49m\u001b[43m(\u001b[49m\u001b[43mkey\u001b[49m\u001b[43m)\u001b[49m\n\u001b[1;32m   3506\u001b[0m \u001b[38;5;28;01mif\u001b[39;00m is_integer(indexer):\n\u001b[1;32m   3507\u001b[0m     indexer \u001b[38;5;241m=\u001b[39m [indexer]\n",
      "File \u001b[0;32m~/opt/anaconda3/lib/python3.9/site-packages/pandas/core/indexes/base.py:3623\u001b[0m, in \u001b[0;36mIndex.get_loc\u001b[0;34m(self, key, method, tolerance)\u001b[0m\n\u001b[1;32m   3621\u001b[0m     \u001b[38;5;28;01mreturn\u001b[39;00m \u001b[38;5;28mself\u001b[39m\u001b[38;5;241m.\u001b[39m_engine\u001b[38;5;241m.\u001b[39mget_loc(casted_key)\n\u001b[1;32m   3622\u001b[0m \u001b[38;5;28;01mexcept\u001b[39;00m \u001b[38;5;167;01mKeyError\u001b[39;00m \u001b[38;5;28;01mas\u001b[39;00m err:\n\u001b[0;32m-> 3623\u001b[0m     \u001b[38;5;28;01mraise\u001b[39;00m \u001b[38;5;167;01mKeyError\u001b[39;00m(key) \u001b[38;5;28;01mfrom\u001b[39;00m \u001b[38;5;21;01merr\u001b[39;00m\n\u001b[1;32m   3624\u001b[0m \u001b[38;5;28;01mexcept\u001b[39;00m \u001b[38;5;167;01mTypeError\u001b[39;00m:\n\u001b[1;32m   3625\u001b[0m     \u001b[38;5;66;03m# If we have a listlike key, _check_indexing_error will raise\u001b[39;00m\n\u001b[1;32m   3626\u001b[0m     \u001b[38;5;66;03m#  InvalidIndexError. Otherwise we fall through and re-raise\u001b[39;00m\n\u001b[1;32m   3627\u001b[0m     \u001b[38;5;66;03m#  the TypeError.\u001b[39;00m\n\u001b[1;32m   3628\u001b[0m     \u001b[38;5;28mself\u001b[39m\u001b[38;5;241m.\u001b[39m_check_indexing_error(key)\n",
      "\u001b[0;31mKeyError\u001b[0m: 3"
     ]
    }
   ],
   "source": [
    "import numpy as np\n",
    "import matplotlib.pyplot as plt\n",
    "\n",
    "labels = ['Week 1', 'Week 2', 'Week 3', 'Week 4', 'Week 5', 'Week 6',\n",
    "          'Treatment 1', 'Treatment 2', 'Treatment 3',\n",
    "          'Control 1', 'Control 2', 'Control 3']\n",
    "\n",
    "overall_rates = results.loc[1:6, weeks].values\n",
    "treatment_rates = results.loc[7:12, weeks].values\n",
    "control_rates = results.loc[13:18, weeks].values\n",
    "\n",
    "m_opens = results.loc[1:6, 3].values\n",
    "f_opens = results.loc[1:6, 4].values\n",
    "other_opens = results.loc[1:6, 5].values\n",
    "\n",
    "totals = np.vstack((m_opens, f_opens, other_opens)).T\n",
    "cumulative_totals = np.cumsum(totals, axis=1)\n",
    "\n"
   ]
  },
  {
   "cell_type": "code",
   "execution_count": null,
   "id": "63563ba8-3bca-41a6-b6d1-55d1d7aee713",
   "metadata": {},
   "outputs": [],
   "source": []
  },
  {
   "cell_type": "code",
   "execution_count": null,
   "id": "770064ec-73f8-456e-a984-1ef711a620ad",
   "metadata": {},
   "outputs": [],
   "source": []
  },
  {
   "cell_type": "code",
   "execution_count": null,
   "id": "71bece73-525b-4a3f-a454-21507be96093",
   "metadata": {},
   "outputs": [],
   "source": []
  }
 ],
 "metadata": {
  "kernelspec": {
   "display_name": "Python 3 (ipykernel)",
   "language": "python",
   "name": "python3"
  },
  "language_info": {
   "codemirror_mode": {
    "name": "ipython",
    "version": 3
   },
   "file_extension": ".py",
   "mimetype": "text/x-python",
   "name": "python",
   "nbconvert_exporter": "python",
   "pygments_lexer": "ipython3",
   "version": "3.9.12"
  }
 },
 "nbformat": 4,
 "nbformat_minor": 5
}
